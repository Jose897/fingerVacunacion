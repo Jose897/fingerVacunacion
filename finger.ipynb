{
  "nbformat": 4,
  "nbformat_minor": 0,
  "metadata": {
    "kernelspec": {
      "display_name": "Python 3",
      "language": "python",
      "name": "python3"
    },
    "language_info": {
      "codemirror_mode": {
        "name": "ipython",
        "version": 3
      },
      "file_extension": ".py",
      "mimetype": "text/x-python",
      "name": "python",
      "nbconvert_exporter": "python",
      "pygments_lexer": "ipython3",
      "version": "3.8.2"
    },
    "colab": {
      "name": "1_finger.ipynb",
      "provenance": [],
      "collapsed_sections": [],
      "include_colab_link": true
    }
  },
  "cells": [
    {
      "cell_type": "markdown",
      "metadata": {
        "id": "view-in-github",
        "colab_type": "text"
      },
      "source": [
        "<a href=\"https://colab.research.google.com/github/Jose897/fingerVacunacion/blob/feature1/finger.ipynb\" target=\"_parent\"><img src=\"https://colab.research.google.com/assets/colab-badge.svg\" alt=\"Open In Colab\"/></a>"
      ]
    },
    {
      "cell_type": "markdown",
      "metadata": {
        "id": "FrKngFDmRYb3"
      },
      "source": [
        "# **Vacunacion Covid** "
      ]
    },
    {
      "cell_type": "code",
      "metadata": {
        "id": "mQDwnOebRYb5"
      },
      "source": [
        "# importacion general de librerias y de visualizacion (matplotlib y seaborn)\n",
        "import pandas as pd\n",
        "import numpy as np\n",
        "import matplotlib.pyplot as plt\n",
        "import seaborn as sns\n",
        "\n",
        "%matplotlib inline\n",
        "\n",
        "plt.style.use('default') # haciendo los graficos un poco mas bonitos en matplotlib\n",
        "#plt.rcParams['figure.figsize'] = (20, 10)\n",
        "\n",
        "sns.set(style=\"whitegrid\") # seteando tipo de grid en seaborn\n",
        "\n",
        "pd.options.display.float_format = '{:20,.2f}'.format # suprimimos la notacion cientifica en los outputs\n",
        "\n",
        "import warnings\n",
        "warnings.filterwarnings('ignore')"
      ],
      "execution_count": null,
      "outputs": []
    },
    {
      "cell_type": "code",
      "metadata": {
        "id": "lWuJC79eO79n"
      },
      "source": [
        "from pydrive.auth import GoogleAuth\n",
        "from pydrive.drive import GoogleDrive\n",
        "from google.colab import auth\n",
        "from oauth2client.client import GoogleCredentials"
      ],
      "execution_count": null,
      "outputs": []
    },
    {
      "cell_type": "code",
      "metadata": {
        "id": "RhORHjivO_ko"
      },
      "source": [
        "auth.authenticate_user()\n",
        "gauth = GoogleAuth()\n",
        "gauth.credentials = GoogleCredentials.get_application_default()\n",
        "drive = GoogleDrive(gauth)"
      ],
      "execution_count": null,
      "outputs": []
    },
    {
      "cell_type": "code",
      "metadata": {
        "id": "raB-sc0gPFC5"
      },
      "source": [
        "#Datos en https://www.kaggle.com/dhruvildave/top-play-store-games\n",
        "id= '1Yxzlg45C197hUqA8OHV1juU6mpa5kZTz'\n",
        "downloaded = drive.CreateFile({'id': id})\n",
        "downloaded.GetContentFile('country_vaccinations.csv')"
      ],
      "execution_count": null,
      "outputs": []
    },
    {
      "cell_type": "code",
      "metadata": {
        "id": "F2yZNCAWD7Dm"
      },
      "source": [
        "vacunacion=pd.read_csv('country_vaccinations.csv')"
      ],
      "execution_count": null,
      "outputs": []
    },
    {
      "cell_type": "code",
      "metadata": {
        "colab": {
          "base_uri": "https://localhost:8080/",
          "height": 655
        },
        "id": "u4U_w80eGEVs",
        "outputId": "d92ba4a8-1507-461f-d815-0e62ffd6c569"
      },
      "source": [
        "vacunacion"
      ],
      "execution_count": null,
      "outputs": [
        {
          "output_type": "execute_result",
          "data": {
            "text/html": [
              "<div>\n",
              "<style scoped>\n",
              "    .dataframe tbody tr th:only-of-type {\n",
              "        vertical-align: middle;\n",
              "    }\n",
              "\n",
              "    .dataframe tbody tr th {\n",
              "        vertical-align: top;\n",
              "    }\n",
              "\n",
              "    .dataframe thead th {\n",
              "        text-align: right;\n",
              "    }\n",
              "</style>\n",
              "<table border=\"1\" class=\"dataframe\">\n",
              "  <thead>\n",
              "    <tr style=\"text-align: right;\">\n",
              "      <th></th>\n",
              "      <th>country</th>\n",
              "      <th>iso_code</th>\n",
              "      <th>date</th>\n",
              "      <th>total_vaccinations</th>\n",
              "      <th>people_vaccinated</th>\n",
              "      <th>people_fully_vaccinated</th>\n",
              "      <th>daily_vaccinations_raw</th>\n",
              "      <th>daily_vaccinations</th>\n",
              "      <th>total_vaccinations_per_hundred</th>\n",
              "      <th>people_vaccinated_per_hundred</th>\n",
              "      <th>people_fully_vaccinated_per_hundred</th>\n",
              "      <th>daily_vaccinations_per_million</th>\n",
              "      <th>vaccines</th>\n",
              "      <th>source_name</th>\n",
              "      <th>source_website</th>\n",
              "    </tr>\n",
              "  </thead>\n",
              "  <tbody>\n",
              "    <tr>\n",
              "      <th>0</th>\n",
              "      <td>Afghanistan</td>\n",
              "      <td>AFG</td>\n",
              "      <td>2021-02-22</td>\n",
              "      <td>0.00</td>\n",
              "      <td>0.00</td>\n",
              "      <td>nan</td>\n",
              "      <td>nan</td>\n",
              "      <td>nan</td>\n",
              "      <td>0.00</td>\n",
              "      <td>0.00</td>\n",
              "      <td>nan</td>\n",
              "      <td>nan</td>\n",
              "      <td>Oxford/AstraZeneca</td>\n",
              "      <td>Government of Afghanistan</td>\n",
              "      <td>http://www.xinhuanet.com/english/asiapacific/2...</td>\n",
              "    </tr>\n",
              "    <tr>\n",
              "      <th>1</th>\n",
              "      <td>Afghanistan</td>\n",
              "      <td>AFG</td>\n",
              "      <td>2021-02-23</td>\n",
              "      <td>nan</td>\n",
              "      <td>nan</td>\n",
              "      <td>nan</td>\n",
              "      <td>nan</td>\n",
              "      <td>1,367.00</td>\n",
              "      <td>nan</td>\n",
              "      <td>nan</td>\n",
              "      <td>nan</td>\n",
              "      <td>35.00</td>\n",
              "      <td>Oxford/AstraZeneca</td>\n",
              "      <td>Government of Afghanistan</td>\n",
              "      <td>http://www.xinhuanet.com/english/asiapacific/2...</td>\n",
              "    </tr>\n",
              "    <tr>\n",
              "      <th>2</th>\n",
              "      <td>Afghanistan</td>\n",
              "      <td>AFG</td>\n",
              "      <td>2021-02-24</td>\n",
              "      <td>nan</td>\n",
              "      <td>nan</td>\n",
              "      <td>nan</td>\n",
              "      <td>nan</td>\n",
              "      <td>1,367.00</td>\n",
              "      <td>nan</td>\n",
              "      <td>nan</td>\n",
              "      <td>nan</td>\n",
              "      <td>35.00</td>\n",
              "      <td>Oxford/AstraZeneca</td>\n",
              "      <td>Government of Afghanistan</td>\n",
              "      <td>http://www.xinhuanet.com/english/asiapacific/2...</td>\n",
              "    </tr>\n",
              "    <tr>\n",
              "      <th>3</th>\n",
              "      <td>Afghanistan</td>\n",
              "      <td>AFG</td>\n",
              "      <td>2021-02-25</td>\n",
              "      <td>nan</td>\n",
              "      <td>nan</td>\n",
              "      <td>nan</td>\n",
              "      <td>nan</td>\n",
              "      <td>1,367.00</td>\n",
              "      <td>nan</td>\n",
              "      <td>nan</td>\n",
              "      <td>nan</td>\n",
              "      <td>35.00</td>\n",
              "      <td>Oxford/AstraZeneca</td>\n",
              "      <td>Government of Afghanistan</td>\n",
              "      <td>http://www.xinhuanet.com/english/asiapacific/2...</td>\n",
              "    </tr>\n",
              "    <tr>\n",
              "      <th>4</th>\n",
              "      <td>Afghanistan</td>\n",
              "      <td>AFG</td>\n",
              "      <td>2021-02-26</td>\n",
              "      <td>nan</td>\n",
              "      <td>nan</td>\n",
              "      <td>nan</td>\n",
              "      <td>nan</td>\n",
              "      <td>1,367.00</td>\n",
              "      <td>nan</td>\n",
              "      <td>nan</td>\n",
              "      <td>nan</td>\n",
              "      <td>35.00</td>\n",
              "      <td>Oxford/AstraZeneca</td>\n",
              "      <td>Government of Afghanistan</td>\n",
              "      <td>http://www.xinhuanet.com/english/asiapacific/2...</td>\n",
              "    </tr>\n",
              "    <tr>\n",
              "      <th>...</th>\n",
              "      <td>...</td>\n",
              "      <td>...</td>\n",
              "      <td>...</td>\n",
              "      <td>...</td>\n",
              "      <td>...</td>\n",
              "      <td>...</td>\n",
              "      <td>...</td>\n",
              "      <td>...</td>\n",
              "      <td>...</td>\n",
              "      <td>...</td>\n",
              "      <td>...</td>\n",
              "      <td>...</td>\n",
              "      <td>...</td>\n",
              "      <td>...</td>\n",
              "      <td>...</td>\n",
              "    </tr>\n",
              "    <tr>\n",
              "      <th>12509</th>\n",
              "      <td>Zimbabwe</td>\n",
              "      <td>ZWE</td>\n",
              "      <td>2021-04-12</td>\n",
              "      <td>234,579.00</td>\n",
              "      <td>205,275.00</td>\n",
              "      <td>29,304.00</td>\n",
              "      <td>11,087.00</td>\n",
              "      <td>12,724.00</td>\n",
              "      <td>1.58</td>\n",
              "      <td>1.38</td>\n",
              "      <td>0.20</td>\n",
              "      <td>856.00</td>\n",
              "      <td>Sinopharm/Beijing</td>\n",
              "      <td>Ministry of Health</td>\n",
              "      <td>https://twitter.com/MoHCCZim/status/1383174384...</td>\n",
              "    </tr>\n",
              "    <tr>\n",
              "      <th>12510</th>\n",
              "      <td>Zimbabwe</td>\n",
              "      <td>ZWE</td>\n",
              "      <td>2021-04-13</td>\n",
              "      <td>248,355.00</td>\n",
              "      <td>218,516.00</td>\n",
              "      <td>29,839.00</td>\n",
              "      <td>13,776.00</td>\n",
              "      <td>12,246.00</td>\n",
              "      <td>1.67</td>\n",
              "      <td>1.47</td>\n",
              "      <td>0.20</td>\n",
              "      <td>824.00</td>\n",
              "      <td>Sinopharm/Beijing</td>\n",
              "      <td>Ministry of Health</td>\n",
              "      <td>https://twitter.com/MoHCCZim/status/1383174384...</td>\n",
              "    </tr>\n",
              "    <tr>\n",
              "      <th>12511</th>\n",
              "      <td>Zimbabwe</td>\n",
              "      <td>ZWE</td>\n",
              "      <td>2021-04-14</td>\n",
              "      <td>262,128.00</td>\n",
              "      <td>231,632.00</td>\n",
              "      <td>30,496.00</td>\n",
              "      <td>13,773.00</td>\n",
              "      <td>11,816.00</td>\n",
              "      <td>1.76</td>\n",
              "      <td>1.56</td>\n",
              "      <td>0.21</td>\n",
              "      <td>795.00</td>\n",
              "      <td>Sinopharm/Beijing</td>\n",
              "      <td>Ministry of Health</td>\n",
              "      <td>https://twitter.com/MoHCCZim/status/1383174384...</td>\n",
              "    </tr>\n",
              "    <tr>\n",
              "      <th>12512</th>\n",
              "      <td>Zimbabwe</td>\n",
              "      <td>ZWE</td>\n",
              "      <td>2021-04-15</td>\n",
              "      <td>285,881.00</td>\n",
              "      <td>252,932.00</td>\n",
              "      <td>32,949.00</td>\n",
              "      <td>23,753.00</td>\n",
              "      <td>13,172.00</td>\n",
              "      <td>1.92</td>\n",
              "      <td>1.70</td>\n",
              "      <td>0.22</td>\n",
              "      <td>886.00</td>\n",
              "      <td>Sinopharm/Beijing</td>\n",
              "      <td>Ministry of Health</td>\n",
              "      <td>https://twitter.com/MoHCCZim/status/1383174384...</td>\n",
              "    </tr>\n",
              "    <tr>\n",
              "      <th>12513</th>\n",
              "      <td>Zimbabwe</td>\n",
              "      <td>ZWE</td>\n",
              "      <td>2021-04-16</td>\n",
              "      <td>304,701.00</td>\n",
              "      <td>269,732.00</td>\n",
              "      <td>34,969.00</td>\n",
              "      <td>18,820.00</td>\n",
              "      <td>14,071.00</td>\n",
              "      <td>2.05</td>\n",
              "      <td>1.81</td>\n",
              "      <td>0.24</td>\n",
              "      <td>947.00</td>\n",
              "      <td>Sinopharm/Beijing</td>\n",
              "      <td>Ministry of Health</td>\n",
              "      <td>https://twitter.com/MoHCCZim/status/1383174384...</td>\n",
              "    </tr>\n",
              "  </tbody>\n",
              "</table>\n",
              "<p>12514 rows × 15 columns</p>\n",
              "</div>"
            ],
            "text/plain": [
              "           country  ...                                     source_website\n",
              "0      Afghanistan  ...  http://www.xinhuanet.com/english/asiapacific/2...\n",
              "1      Afghanistan  ...  http://www.xinhuanet.com/english/asiapacific/2...\n",
              "2      Afghanistan  ...  http://www.xinhuanet.com/english/asiapacific/2...\n",
              "3      Afghanistan  ...  http://www.xinhuanet.com/english/asiapacific/2...\n",
              "4      Afghanistan  ...  http://www.xinhuanet.com/english/asiapacific/2...\n",
              "...            ...  ...                                                ...\n",
              "12509     Zimbabwe  ...  https://twitter.com/MoHCCZim/status/1383174384...\n",
              "12510     Zimbabwe  ...  https://twitter.com/MoHCCZim/status/1383174384...\n",
              "12511     Zimbabwe  ...  https://twitter.com/MoHCCZim/status/1383174384...\n",
              "12512     Zimbabwe  ...  https://twitter.com/MoHCCZim/status/1383174384...\n",
              "12513     Zimbabwe  ...  https://twitter.com/MoHCCZim/status/1383174384...\n",
              "\n",
              "[12514 rows x 15 columns]"
            ]
          },
          "metadata": {
            "tags": []
          },
          "execution_count": 6
        }
      ]
    },
    {
      "cell_type": "code",
      "metadata": {
        "colab": {
          "base_uri": "https://localhost:8080/"
        },
        "id": "kYZlupOZoF0_",
        "outputId": "71f1cd4f-7f80-4d64-b9bb-b99d3fa9e4c0"
      },
      "source": [
        "vacunacion.info()"
      ],
      "execution_count": null,
      "outputs": [
        {
          "output_type": "stream",
          "text": [
            "<class 'pandas.core.frame.DataFrame'>\n",
            "RangeIndex: 12514 entries, 0 to 12513\n",
            "Data columns (total 15 columns):\n",
            " #   Column                               Non-Null Count  Dtype  \n",
            "---  ------                               --------------  -----  \n",
            " 0   country                              12514 non-null  object \n",
            " 1   iso_code                             12514 non-null  object \n",
            " 2   date                                 12514 non-null  object \n",
            " 3   total_vaccinations                   7476 non-null   float64\n",
            " 4   people_vaccinated                    6811 non-null   float64\n",
            " 5   people_fully_vaccinated              4901 non-null   float64\n",
            " 6   daily_vaccinations_raw               6285 non-null   float64\n",
            " 7   daily_vaccinations                   12297 non-null  float64\n",
            " 8   total_vaccinations_per_hundred       7476 non-null   float64\n",
            " 9   people_vaccinated_per_hundred        6811 non-null   float64\n",
            " 10  people_fully_vaccinated_per_hundred  4901 non-null   float64\n",
            " 11  daily_vaccinations_per_million       12297 non-null  float64\n",
            " 12  vaccines                             12514 non-null  object \n",
            " 13  source_name                          12514 non-null  object \n",
            " 14  source_website                       12514 non-null  object \n",
            "dtypes: float64(9), object(6)\n",
            "memory usage: 1.4+ MB\n"
          ],
          "name": "stdout"
        }
      ]
    },
    {
      "cell_type": "code",
      "metadata": {
        "id": "3hXkqScNSH6N"
      },
      "source": [
        "short_vacunacion = vacunacion.loc[:,['country','iso_code','people_vaccinated','people_fully_vaccinated']]"
      ],
      "execution_count": null,
      "outputs": []
    },
    {
      "cell_type": "code",
      "metadata": {
        "colab": {
          "base_uri": "https://localhost:8080/",
          "height": 391
        },
        "id": "E_ZawLpDXX9B",
        "outputId": "ce84d8fd-dfcc-4727-fa20-219203e79214"
      },
      "source": [
        "short_vacunacion"
      ],
      "execution_count": null,
      "outputs": [
        {
          "output_type": "execute_result",
          "data": {
            "text/html": [
              "<div>\n",
              "<style scoped>\n",
              "    .dataframe tbody tr th:only-of-type {\n",
              "        vertical-align: middle;\n",
              "    }\n",
              "\n",
              "    .dataframe tbody tr th {\n",
              "        vertical-align: top;\n",
              "    }\n",
              "\n",
              "    .dataframe thead th {\n",
              "        text-align: right;\n",
              "    }\n",
              "</style>\n",
              "<table border=\"1\" class=\"dataframe\">\n",
              "  <thead>\n",
              "    <tr style=\"text-align: right;\">\n",
              "      <th></th>\n",
              "      <th>country</th>\n",
              "      <th>iso_code</th>\n",
              "      <th>people_vaccinated</th>\n",
              "      <th>people_fully_vaccinated</th>\n",
              "    </tr>\n",
              "  </thead>\n",
              "  <tbody>\n",
              "    <tr>\n",
              "      <th>0</th>\n",
              "      <td>Afghanistan</td>\n",
              "      <td>AFG</td>\n",
              "      <td>0.00</td>\n",
              "      <td>nan</td>\n",
              "    </tr>\n",
              "    <tr>\n",
              "      <th>1</th>\n",
              "      <td>Afghanistan</td>\n",
              "      <td>AFG</td>\n",
              "      <td>nan</td>\n",
              "      <td>nan</td>\n",
              "    </tr>\n",
              "    <tr>\n",
              "      <th>2</th>\n",
              "      <td>Afghanistan</td>\n",
              "      <td>AFG</td>\n",
              "      <td>nan</td>\n",
              "      <td>nan</td>\n",
              "    </tr>\n",
              "    <tr>\n",
              "      <th>3</th>\n",
              "      <td>Afghanistan</td>\n",
              "      <td>AFG</td>\n",
              "      <td>nan</td>\n",
              "      <td>nan</td>\n",
              "    </tr>\n",
              "    <tr>\n",
              "      <th>4</th>\n",
              "      <td>Afghanistan</td>\n",
              "      <td>AFG</td>\n",
              "      <td>nan</td>\n",
              "      <td>nan</td>\n",
              "    </tr>\n",
              "    <tr>\n",
              "      <th>...</th>\n",
              "      <td>...</td>\n",
              "      <td>...</td>\n",
              "      <td>...</td>\n",
              "      <td>...</td>\n",
              "    </tr>\n",
              "    <tr>\n",
              "      <th>12509</th>\n",
              "      <td>Zimbabwe</td>\n",
              "      <td>ZWE</td>\n",
              "      <td>205,275.00</td>\n",
              "      <td>29,304.00</td>\n",
              "    </tr>\n",
              "    <tr>\n",
              "      <th>12510</th>\n",
              "      <td>Zimbabwe</td>\n",
              "      <td>ZWE</td>\n",
              "      <td>218,516.00</td>\n",
              "      <td>29,839.00</td>\n",
              "    </tr>\n",
              "    <tr>\n",
              "      <th>12511</th>\n",
              "      <td>Zimbabwe</td>\n",
              "      <td>ZWE</td>\n",
              "      <td>231,632.00</td>\n",
              "      <td>30,496.00</td>\n",
              "    </tr>\n",
              "    <tr>\n",
              "      <th>12512</th>\n",
              "      <td>Zimbabwe</td>\n",
              "      <td>ZWE</td>\n",
              "      <td>252,932.00</td>\n",
              "      <td>32,949.00</td>\n",
              "    </tr>\n",
              "    <tr>\n",
              "      <th>12513</th>\n",
              "      <td>Zimbabwe</td>\n",
              "      <td>ZWE</td>\n",
              "      <td>269,732.00</td>\n",
              "      <td>34,969.00</td>\n",
              "    </tr>\n",
              "  </tbody>\n",
              "</table>\n",
              "<p>12514 rows × 4 columns</p>\n",
              "</div>"
            ],
            "text/plain": [
              "           country iso_code    people_vaccinated  people_fully_vaccinated\n",
              "0      Afghanistan      AFG                 0.00                      nan\n",
              "1      Afghanistan      AFG                  nan                      nan\n",
              "2      Afghanistan      AFG                  nan                      nan\n",
              "3      Afghanistan      AFG                  nan                      nan\n",
              "4      Afghanistan      AFG                  nan                      nan\n",
              "...            ...      ...                  ...                      ...\n",
              "12509     Zimbabwe      ZWE           205,275.00                29,304.00\n",
              "12510     Zimbabwe      ZWE           218,516.00                29,839.00\n",
              "12511     Zimbabwe      ZWE           231,632.00                30,496.00\n",
              "12512     Zimbabwe      ZWE           252,932.00                32,949.00\n",
              "12513     Zimbabwe      ZWE           269,732.00                34,969.00\n",
              "\n",
              "[12514 rows x 4 columns]"
            ]
          },
          "metadata": {
            "tags": []
          },
          "execution_count": 9
        }
      ]
    },
    {
      "cell_type": "code",
      "metadata": {
        "colab": {
          "base_uri": "https://localhost:8080/"
        },
        "id": "KpyZy69Zo3P5",
        "outputId": "2776c658-79af-463a-c85c-e080ad6129b4"
      },
      "source": [
        "short_vacunacion.dtypes"
      ],
      "execution_count": null,
      "outputs": [
        {
          "output_type": "execute_result",
          "data": {
            "text/plain": [
              "country                     object\n",
              "iso_code                    object\n",
              "people_vaccinated          float64\n",
              "people_fully_vaccinated    float64\n",
              "dtype: object"
            ]
          },
          "metadata": {
            "tags": []
          },
          "execution_count": 10
        }
      ]
    },
    {
      "cell_type": "code",
      "metadata": {
        "id": "Y-smpSWFoosi"
      },
      "source": [
        "grupo_vacunacion= short_vacunacion.groupby(['country','iso_code']).sum()"
      ],
      "execution_count": null,
      "outputs": []
    },
    {
      "cell_type": "code",
      "metadata": {
        "colab": {
          "base_uri": "https://localhost:8080/",
          "height": 420
        },
        "id": "P7X4GNO2a7iJ",
        "outputId": "400e09fc-ab21-4515-e0ad-d8a96b4d21de"
      },
      "source": [
        "grupo_vacunacion"
      ],
      "execution_count": null,
      "outputs": [
        {
          "output_type": "execute_result",
          "data": {
            "text/html": [
              "<div>\n",
              "<style scoped>\n",
              "    .dataframe tbody tr th:only-of-type {\n",
              "        vertical-align: middle;\n",
              "    }\n",
              "\n",
              "    .dataframe tbody tr th {\n",
              "        vertical-align: top;\n",
              "    }\n",
              "\n",
              "    .dataframe thead th {\n",
              "        text-align: right;\n",
              "    }\n",
              "</style>\n",
              "<table border=\"1\" class=\"dataframe\">\n",
              "  <thead>\n",
              "    <tr style=\"text-align: right;\">\n",
              "      <th></th>\n",
              "      <th></th>\n",
              "      <th>people_vaccinated</th>\n",
              "      <th>people_fully_vaccinated</th>\n",
              "    </tr>\n",
              "    <tr>\n",
              "      <th>country</th>\n",
              "      <th>iso_code</th>\n",
              "      <th></th>\n",
              "      <th></th>\n",
              "    </tr>\n",
              "  </thead>\n",
              "  <tbody>\n",
              "    <tr>\n",
              "      <th>Afghanistan</th>\n",
              "      <th>AFG</th>\n",
              "      <td>182,200.00</td>\n",
              "      <td>0.00</td>\n",
              "    </tr>\n",
              "    <tr>\n",
              "      <th>Albania</th>\n",
              "      <th>ALB</th>\n",
              "      <td>14,501.00</td>\n",
              "      <td>2,316.00</td>\n",
              "    </tr>\n",
              "    <tr>\n",
              "      <th>Algeria</th>\n",
              "      <th>DZA</th>\n",
              "      <td>0.00</td>\n",
              "      <td>0.00</td>\n",
              "    </tr>\n",
              "    <tr>\n",
              "      <th>Andorra</th>\n",
              "      <th>AND</th>\n",
              "      <td>32,024.00</td>\n",
              "      <td>8,185.00</td>\n",
              "    </tr>\n",
              "    <tr>\n",
              "      <th>Angola</th>\n",
              "      <th>AGO</th>\n",
              "      <td>699,961.00</td>\n",
              "      <td>0.00</td>\n",
              "    </tr>\n",
              "    <tr>\n",
              "      <th>...</th>\n",
              "      <th>...</th>\n",
              "      <td>...</td>\n",
              "      <td>...</td>\n",
              "    </tr>\n",
              "    <tr>\n",
              "      <th>Venezuela</th>\n",
              "      <th>VEN</th>\n",
              "      <td>374,574.00</td>\n",
              "      <td>0.00</td>\n",
              "    </tr>\n",
              "    <tr>\n",
              "      <th>Vietnam</th>\n",
              "      <th>VNM</th>\n",
              "      <td>1,709,184.00</td>\n",
              "      <td>0.00</td>\n",
              "    </tr>\n",
              "    <tr>\n",
              "      <th>Wales</th>\n",
              "      <th>OWID_WLS</th>\n",
              "      <td>88,440,537.00</td>\n",
              "      <td>18,454,054.00</td>\n",
              "    </tr>\n",
              "    <tr>\n",
              "      <th>Zambia</th>\n",
              "      <th>ZMB</th>\n",
              "      <td>1,422.00</td>\n",
              "      <td>0.00</td>\n",
              "    </tr>\n",
              "    <tr>\n",
              "      <th>Zimbabwe</th>\n",
              "      <th>ZWE</th>\n",
              "      <td>4,161,944.00</td>\n",
              "      <td>496,227.00</td>\n",
              "    </tr>\n",
              "  </tbody>\n",
              "</table>\n",
              "<p>186 rows × 2 columns</p>\n",
              "</div>"
            ],
            "text/plain": [
              "                        people_vaccinated  people_fully_vaccinated\n",
              "country     iso_code                                              \n",
              "Afghanistan AFG                182,200.00                     0.00\n",
              "Albania     ALB                 14,501.00                 2,316.00\n",
              "Algeria     DZA                      0.00                     0.00\n",
              "Andorra     AND                 32,024.00                 8,185.00\n",
              "Angola      AGO                699,961.00                     0.00\n",
              "...                                   ...                      ...\n",
              "Venezuela   VEN                374,574.00                     0.00\n",
              "Vietnam     VNM              1,709,184.00                     0.00\n",
              "Wales       OWID_WLS        88,440,537.00            18,454,054.00\n",
              "Zambia      ZMB                  1,422.00                     0.00\n",
              "Zimbabwe    ZWE              4,161,944.00               496,227.00\n",
              "\n",
              "[186 rows x 2 columns]"
            ]
          },
          "metadata": {
            "tags": []
          },
          "execution_count": 12
        }
      ]
    },
    {
      "cell_type": "code",
      "metadata": {
        "colab": {
          "base_uri": "https://localhost:8080/",
          "height": 391
        },
        "id": "ZW2CD9DdsdkD",
        "outputId": "d2c014cd-1c74-46b1-ed6e-869d6c225434"
      },
      "source": [
        "grupo_vacunacion.reset_index()"
      ],
      "execution_count": null,
      "outputs": [
        {
          "output_type": "execute_result",
          "data": {
            "text/html": [
              "<div>\n",
              "<style scoped>\n",
              "    .dataframe tbody tr th:only-of-type {\n",
              "        vertical-align: middle;\n",
              "    }\n",
              "\n",
              "    .dataframe tbody tr th {\n",
              "        vertical-align: top;\n",
              "    }\n",
              "\n",
              "    .dataframe thead th {\n",
              "        text-align: right;\n",
              "    }\n",
              "</style>\n",
              "<table border=\"1\" class=\"dataframe\">\n",
              "  <thead>\n",
              "    <tr style=\"text-align: right;\">\n",
              "      <th></th>\n",
              "      <th>country</th>\n",
              "      <th>iso_code</th>\n",
              "      <th>people_vaccinated</th>\n",
              "      <th>people_fully_vaccinated</th>\n",
              "    </tr>\n",
              "  </thead>\n",
              "  <tbody>\n",
              "    <tr>\n",
              "      <th>0</th>\n",
              "      <td>Afghanistan</td>\n",
              "      <td>AFG</td>\n",
              "      <td>182,200.00</td>\n",
              "      <td>0.00</td>\n",
              "    </tr>\n",
              "    <tr>\n",
              "      <th>1</th>\n",
              "      <td>Albania</td>\n",
              "      <td>ALB</td>\n",
              "      <td>14,501.00</td>\n",
              "      <td>2,316.00</td>\n",
              "    </tr>\n",
              "    <tr>\n",
              "      <th>2</th>\n",
              "      <td>Algeria</td>\n",
              "      <td>DZA</td>\n",
              "      <td>0.00</td>\n",
              "      <td>0.00</td>\n",
              "    </tr>\n",
              "    <tr>\n",
              "      <th>3</th>\n",
              "      <td>Andorra</td>\n",
              "      <td>AND</td>\n",
              "      <td>32,024.00</td>\n",
              "      <td>8,185.00</td>\n",
              "    </tr>\n",
              "    <tr>\n",
              "      <th>4</th>\n",
              "      <td>Angola</td>\n",
              "      <td>AGO</td>\n",
              "      <td>699,961.00</td>\n",
              "      <td>0.00</td>\n",
              "    </tr>\n",
              "    <tr>\n",
              "      <th>...</th>\n",
              "      <td>...</td>\n",
              "      <td>...</td>\n",
              "      <td>...</td>\n",
              "      <td>...</td>\n",
              "    </tr>\n",
              "    <tr>\n",
              "      <th>181</th>\n",
              "      <td>Venezuela</td>\n",
              "      <td>VEN</td>\n",
              "      <td>374,574.00</td>\n",
              "      <td>0.00</td>\n",
              "    </tr>\n",
              "    <tr>\n",
              "      <th>182</th>\n",
              "      <td>Vietnam</td>\n",
              "      <td>VNM</td>\n",
              "      <td>1,709,184.00</td>\n",
              "      <td>0.00</td>\n",
              "    </tr>\n",
              "    <tr>\n",
              "      <th>183</th>\n",
              "      <td>Wales</td>\n",
              "      <td>OWID_WLS</td>\n",
              "      <td>88,440,537.00</td>\n",
              "      <td>18,454,054.00</td>\n",
              "    </tr>\n",
              "    <tr>\n",
              "      <th>184</th>\n",
              "      <td>Zambia</td>\n",
              "      <td>ZMB</td>\n",
              "      <td>1,422.00</td>\n",
              "      <td>0.00</td>\n",
              "    </tr>\n",
              "    <tr>\n",
              "      <th>185</th>\n",
              "      <td>Zimbabwe</td>\n",
              "      <td>ZWE</td>\n",
              "      <td>4,161,944.00</td>\n",
              "      <td>496,227.00</td>\n",
              "    </tr>\n",
              "  </tbody>\n",
              "</table>\n",
              "<p>186 rows × 4 columns</p>\n",
              "</div>"
            ],
            "text/plain": [
              "         country  iso_code    people_vaccinated  people_fully_vaccinated\n",
              "0    Afghanistan       AFG           182,200.00                     0.00\n",
              "1        Albania       ALB            14,501.00                 2,316.00\n",
              "2        Algeria       DZA                 0.00                     0.00\n",
              "3        Andorra       AND            32,024.00                 8,185.00\n",
              "4         Angola       AGO           699,961.00                     0.00\n",
              "..           ...       ...                  ...                      ...\n",
              "181    Venezuela       VEN           374,574.00                     0.00\n",
              "182      Vietnam       VNM         1,709,184.00                     0.00\n",
              "183        Wales  OWID_WLS        88,440,537.00            18,454,054.00\n",
              "184       Zambia       ZMB             1,422.00                     0.00\n",
              "185     Zimbabwe       ZWE         4,161,944.00               496,227.00\n",
              "\n",
              "[186 rows x 4 columns]"
            ]
          },
          "metadata": {
            "tags": []
          },
          "execution_count": 13
        }
      ]
    },
    {
      "cell_type": "code",
      "metadata": {
        "id": "Hxb-pPZRuG4P"
      },
      "source": [
        "ordenado_grupo_vacunacion= grupo_vacunacion.sort_values('people_vaccinated',ascending=False).reset_index()"
      ],
      "execution_count": null,
      "outputs": []
    },
    {
      "cell_type": "code",
      "metadata": {
        "colab": {
          "base_uri": "https://localhost:8080/",
          "height": 76
        },
        "id": "FLwnYVDbo_c1",
        "outputId": "67f76488-1e9a-4bce-9d37-9b7f76c7652c"
      },
      "source": [
        "#1- Obtener el país con mayor cantidad de gente vacunada.\n",
        "ordenado_grupo_vacunacion.head(1)"
      ],
      "execution_count": null,
      "outputs": [
        {
          "output_type": "execute_result",
          "data": {
            "text/html": [
              "<div>\n",
              "<style scoped>\n",
              "    .dataframe tbody tr th:only-of-type {\n",
              "        vertical-align: middle;\n",
              "    }\n",
              "\n",
              "    .dataframe tbody tr th {\n",
              "        vertical-align: top;\n",
              "    }\n",
              "\n",
              "    .dataframe thead th {\n",
              "        text-align: right;\n",
              "    }\n",
              "</style>\n",
              "<table border=\"1\" class=\"dataframe\">\n",
              "  <thead>\n",
              "    <tr style=\"text-align: right;\">\n",
              "      <th></th>\n",
              "      <th>country</th>\n",
              "      <th>iso_code</th>\n",
              "      <th>people_vaccinated</th>\n",
              "      <th>people_fully_vaccinated</th>\n",
              "    </tr>\n",
              "  </thead>\n",
              "  <tbody>\n",
              "    <tr>\n",
              "      <th>0</th>\n",
              "      <td>United States</td>\n",
              "      <td>USA</td>\n",
              "      <td>5,694,525,514.00</td>\n",
              "      <td>2,905,621,619.00</td>\n",
              "    </tr>\n",
              "  </tbody>\n",
              "</table>\n",
              "</div>"
            ],
            "text/plain": [
              "         country iso_code    people_vaccinated  people_fully_vaccinated\n",
              "0  United States      USA     5,694,525,514.00         2,905,621,619.00"
            ]
          },
          "metadata": {
            "tags": []
          },
          "execution_count": 15
        }
      ]
    },
    {
      "cell_type": "code",
      "metadata": {
        "id": "tqon7JlL6JOt"
      },
      "source": [
        "ranking_vacunacion= ordenado_grupo_vacunacion.head(10).sort_values('people_vaccinated',ascending=False).reset_index()"
      ],
      "execution_count": null,
      "outputs": []
    },
    {
      "cell_type": "code",
      "metadata": {
        "colab": {
          "base_uri": "https://localhost:8080/"
        },
        "id": "tJus39qUpKU_",
        "outputId": "00dfdd4a-a34e-4ffa-fd1e-ef0b15064145"
      },
      "source": [
        "ranking_vacunacion.count()"
      ],
      "execution_count": null,
      "outputs": [
        {
          "output_type": "execute_result",
          "data": {
            "text/plain": [
              "index                      10\n",
              "country                    10\n",
              "iso_code                   10\n",
              "people_vaccinated          10\n",
              "people_fully_vaccinated    10\n",
              "dtype: int64"
            ]
          },
          "metadata": {
            "tags": []
          },
          "execution_count": 17
        }
      ]
    },
    {
      "cell_type": "code",
      "metadata": {
        "colab": {
          "base_uri": "https://localhost:8080/",
          "height": 335
        },
        "id": "1T09TCVfrw2H",
        "outputId": "cbad128d-5993-4bef-b2a3-5c4bd4adf682"
      },
      "source": [
        "ranking_vacunacion"
      ],
      "execution_count": null,
      "outputs": [
        {
          "output_type": "execute_result",
          "data": {
            "text/html": [
              "<div>\n",
              "<style scoped>\n",
              "    .dataframe tbody tr th:only-of-type {\n",
              "        vertical-align: middle;\n",
              "    }\n",
              "\n",
              "    .dataframe tbody tr th {\n",
              "        vertical-align: top;\n",
              "    }\n",
              "\n",
              "    .dataframe thead th {\n",
              "        text-align: right;\n",
              "    }\n",
              "</style>\n",
              "<table border=\"1\" class=\"dataframe\">\n",
              "  <thead>\n",
              "    <tr style=\"text-align: right;\">\n",
              "      <th></th>\n",
              "      <th>index</th>\n",
              "      <th>country</th>\n",
              "      <th>iso_code</th>\n",
              "      <th>people_vaccinated</th>\n",
              "      <th>people_fully_vaccinated</th>\n",
              "    </tr>\n",
              "  </thead>\n",
              "  <tbody>\n",
              "    <tr>\n",
              "      <th>0</th>\n",
              "      <td>0</td>\n",
              "      <td>United States</td>\n",
              "      <td>USA</td>\n",
              "      <td>5,694,525,514.00</td>\n",
              "      <td>2,905,621,619.00</td>\n",
              "    </tr>\n",
              "    <tr>\n",
              "      <th>1</th>\n",
              "      <td>1</td>\n",
              "      <td>India</td>\n",
              "      <td>IND</td>\n",
              "      <td>2,770,453,635.00</td>\n",
              "      <td>435,329,240.00</td>\n",
              "    </tr>\n",
              "    <tr>\n",
              "      <th>2</th>\n",
              "      <td>2</td>\n",
              "      <td>United Kingdom</td>\n",
              "      <td>GBR</td>\n",
              "      <td>1,888,316,918.00</td>\n",
              "      <td>211,023,831.00</td>\n",
              "    </tr>\n",
              "    <tr>\n",
              "      <th>3</th>\n",
              "      <td>3</td>\n",
              "      <td>England</td>\n",
              "      <td>OWID_ENG</td>\n",
              "      <td>1,602,381,761.00</td>\n",
              "      <td>168,949,237.00</td>\n",
              "    </tr>\n",
              "    <tr>\n",
              "      <th>4</th>\n",
              "      <td>4</td>\n",
              "      <td>Brazil</td>\n",
              "      <td>BRA</td>\n",
              "      <td>685,427,815.00</td>\n",
              "      <td>182,365,505.00</td>\n",
              "    </tr>\n",
              "    <tr>\n",
              "      <th>5</th>\n",
              "      <td>5</td>\n",
              "      <td>Germany</td>\n",
              "      <td>DEU</td>\n",
              "      <td>565,729,627.00</td>\n",
              "      <td>231,674,194.00</td>\n",
              "    </tr>\n",
              "    <tr>\n",
              "      <th>6</th>\n",
              "      <td>6</td>\n",
              "      <td>Turkey</td>\n",
              "      <td>TUR</td>\n",
              "      <td>517,817,457.00</td>\n",
              "      <td>271,779,930.00</td>\n",
              "    </tr>\n",
              "    <tr>\n",
              "      <th>7</th>\n",
              "      <td>7</td>\n",
              "      <td>Israel</td>\n",
              "      <td>ISR</td>\n",
              "      <td>436,415,856.00</td>\n",
              "      <td>312,377,435.00</td>\n",
              "    </tr>\n",
              "    <tr>\n",
              "      <th>8</th>\n",
              "      <td>8</td>\n",
              "      <td>France</td>\n",
              "      <td>FRA</td>\n",
              "      <td>405,588,187.00</td>\n",
              "      <td>144,166,922.00</td>\n",
              "    </tr>\n",
              "    <tr>\n",
              "      <th>9</th>\n",
              "      <td>9</td>\n",
              "      <td>Italy</td>\n",
              "      <td>ITA</td>\n",
              "      <td>397,865,770.00</td>\n",
              "      <td>176,691,559.00</td>\n",
              "    </tr>\n",
              "  </tbody>\n",
              "</table>\n",
              "</div>"
            ],
            "text/plain": [
              "   index         country  ...    people_vaccinated  people_fully_vaccinated\n",
              "0      0   United States  ...     5,694,525,514.00         2,905,621,619.00\n",
              "1      1           India  ...     2,770,453,635.00           435,329,240.00\n",
              "2      2  United Kingdom  ...     1,888,316,918.00           211,023,831.00\n",
              "3      3         England  ...     1,602,381,761.00           168,949,237.00\n",
              "4      4          Brazil  ...       685,427,815.00           182,365,505.00\n",
              "5      5         Germany  ...       565,729,627.00           231,674,194.00\n",
              "6      6          Turkey  ...       517,817,457.00           271,779,930.00\n",
              "7      7          Israel  ...       436,415,856.00           312,377,435.00\n",
              "8      8          France  ...       405,588,187.00           144,166,922.00\n",
              "9      9           Italy  ...       397,865,770.00           176,691,559.00\n",
              "\n",
              "[10 rows x 5 columns]"
            ]
          },
          "metadata": {
            "tags": []
          },
          "execution_count": 18
        }
      ]
    },
    {
      "cell_type": "code",
      "metadata": {
        "colab": {
          "base_uri": "https://localhost:8080/",
          "height": 643
        },
        "id": "wlV4lAzJNxKb",
        "outputId": "dc81499f-f231-4658-d6e0-1bf56f9de286"
      },
      "source": [
        "#2- Realizar una visualización que permita comparar (vaccinated) con (fully vaccinated), Los 10 paises con mayor vacunacion\n",
        "fig = plt.figure(figsize = (20,10))\n",
        "plt.bar(ranking_vacunacion['country'],ranking_vacunacion['people_vaccinated'], label= 'total vacunados',width=-0.5, color='lightblue')\n",
        "plt.bar(ranking_vacunacion['country'],ranking_vacunacion['people_fully_vaccinated'], label= 'completamente vacunados',width=0.5,align='edge', color='orange')\n",
        "\n",
        "plt.title('comparacion')\n",
        "\n",
        "plt.ylabel('cantidad en millones')\n",
        "plt.xlabel('paises')\n",
        "plt.legend()"
      ],
      "execution_count": null,
      "outputs": [
        {
          "output_type": "execute_result",
          "data": {
            "text/plain": [
              "<matplotlib.legend.Legend at 0x7f2a516695d0>"
            ]
          },
          "metadata": {
            "tags": []
          },
          "execution_count": 19
        },
        {
          "output_type": "display_data",
          "data": {
            "image/png": "[encoded data removed]",
            "text/plain": [
              "<Figure size 1440x720 with 1 Axes>"
            ]
          },
          "metadata": {
            "tags": [],
            "needs_background": "light"
          }
        }
      ]
    }
  ]
}